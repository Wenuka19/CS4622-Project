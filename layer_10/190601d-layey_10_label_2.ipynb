{
 "cells": [
  {
   "cell_type": "code",
   "execution_count": 7,
   "metadata": {},
   "outputs": [],
   "source": [
    "import numpy as np # linear algebra\n",
    "import pandas as pd # data processing, CSV file I/O (e.g. pd.read_csv)\n",
    "from sklearn.decomposition import PCA\n",
    "from sklearn.preprocessing import StandardScaler\n",
    "import numpy as np\n",
    "from sklearn.svm import SVC\n",
    "from sklearn.model_selection import RandomizedSearchCV\n",
    "from scipy.stats import reciprocal, uniform\n",
    "from sklearn.metrics import accuracy_score\n",
    "from sklearn.neighbors import KNeighborsClassifier\n",
    "from imblearn.over_sampling import RandomOverSampler\n",
    "import matplotlib.pyplot as plt"
   ]
  },
  {
   "cell_type": "code",
   "execution_count": 8,
   "metadata": {},
   "outputs": [],
   "source": [
    "train_dataset = pd.read_csv('train.csv')\n",
    "valid_dataset = pd.read_csv('valid.csv')\n",
    "test_dataset = pd.read_csv('test.csv')"
   ]
  },
  {
   "cell_type": "markdown",
   "metadata": {},
   "source": [
    "# Label 2"
   ]
  },
  {
   "cell_type": "code",
   "execution_count": 9,
   "metadata": {},
   "outputs": [],
   "source": [
    "label_2_train_ori = train_dataset.drop(columns=['label_1','label_3','label_4']).dropna()\n",
    "label_2_valid_ori = valid_dataset.drop(columns=['label_1','label_3','label_4']).dropna()"
   ]
  },
  {
   "cell_type": "markdown",
   "metadata": {},
   "source": [
    "## Handle class imbalances"
   ]
  },
  {
   "cell_type": "code",
   "execution_count": 10,
   "metadata": {},
   "outputs": [
    {
     "data": {
      "image/png": "[encoded data removed]",
      "text/plain": [
       "<Figure size 720x432 with 1 Axes>"
      ]
     },
     "metadata": {
      "needs_background": "light"
     },
     "output_type": "display_data"
    }
   ],
   "source": [
    "value_counts = label_2_train_ori['label_2'].value_counts()\n",
    "plt.figure(figsize=(10, 6))\n",
    "value_counts.plot(kind='bar')\n",
    "plt.title('Value Counts of Category')\n",
    "plt.xlabel('Category')\n",
    "plt.ylabel('Count')\n",
    "plt.show()"
   ]
  },
  {
   "cell_type": "code",
   "execution_count": 11,
   "metadata": {},
   "outputs": [
    {
     "data": {
      "image/png": "[encoded data removed]",
      "text/plain": [
       "<Figure size 720x432 with 1 Axes>"
      ]
     },
     "metadata": {
      "needs_background": "light"
     },
     "output_type": "display_data"
    }
   ],
   "source": [
    "label_2_train_X = label_2_train_ori.drop(columns=['label_2'])\n",
    "label_2_train_y = label_2_train_ori['label_2']\n",
    "label_2_valid_X = label_2_valid_ori.drop(columns=['label_2'])\n",
    "label_2_valid_y = label_2_valid_ori['label_2']\n",
    "\n",
    "\n",
    "ros = RandomOverSampler(random_state=44)\n",
    "X_resampled_label_2, y_resampled_label_2 = ros.fit_resample(label_2_train_X, label_2_train_y)\n",
    "value_counts = y_resampled_label_2.value_counts()\n",
    "plt.figure(figsize=(10, 6))\n",
    "value_counts.plot(kind='bar')\n",
    "plt.title('Value Counts of Category')\n",
    "plt.xlabel('Category')\n",
    "plt.ylabel('Count')\n",
    "plt.show()"
   ]
  },
  {
   "cell_type": "code",
   "execution_count": 17,
   "metadata": {},
   "outputs": [],
   "source": [
    "scaler = StandardScaler()\n",
    "X_train_scaled = scaler.fit_transform(label_2_train_X)\n",
    "X_valid_scaled = scaler.transform(label_2_valid_X)"
   ]
  },
  {
   "cell_type": "markdown",
   "metadata": {},
   "source": [
    "## Without any Tuning"
   ]
  },
  {
   "cell_type": "code",
   "execution_count": 18,
   "metadata": {},
   "outputs": [
    {
     "name": "stdout",
     "output_type": "stream",
     "text": [
      "Accuracy: 93.89%\n"
     ]
    }
   ],
   "source": [
    "clf = SVC(kernel='rbf')\n",
    "clf.fit(X_train_scaled,label_2_train_y)\n",
    "predictions_label_2 = clf.predict(X_valid_scaled)\n",
    "initial_accuracy = accuracy_score(label_2_valid_y, predictions_label_2)\n",
    "print(f\"Accuracy: {initial_accuracy*100:.2f}%\")"
   ]
  },
  {
   "cell_type": "markdown",
   "metadata": {},
   "source": [
    "## PCA Analysis"
   ]
  },
  {
   "cell_type": "code",
   "execution_count": 19,
   "metadata": {},
   "outputs": [],
   "source": [
    "pca = PCA(n_components=0.97,svd_solver='full')\n",
    "principal_components_label_2 = pca.fit_transform(X_train_scaled)\n",
    "valid_principal_components_label_2 = pca.transform(X_valid_scaled)\n",
    "\n",
    "principal_df_label_2 = pd.DataFrame(data=principal_components_label_2, columns=[f'new_feature_{i}' for i in range(principal_components_label_2.shape[1])])\n",
    "valid_principal_df_label_2 = pd.DataFrame(data = valid_principal_components_label_2,columns=[f'new_feature_{i}' for i in range(valid_principal_components_label_2.shape[1])])"
   ]
  },
  {
   "cell_type": "markdown",
   "metadata": {},
   "source": [
    "## Hyperparameter Tuning"
   ]
  },
  {
   "cell_type": "code",
   "execution_count": 23,
   "metadata": {},
   "outputs": [
    {
     "name": "stdout",
     "output_type": "stream",
     "text": [
      "n_iterations: 4\n",
      "n_required_iterations: 4\n",
      "n_possible_iterations: 4\n",
      "min_resources_: 1038\n",
      "max_resources_: 28040\n",
      "aggressive_elimination: False\n",
      "factor: 3\n",
      "----------\n",
      "iter: 0\n",
      "n_candidates: 56\n",
      "n_resources: 1038\n",
      "Fitting 5 folds for each of 56 candidates, totalling 280 fits\n",
      "----------\n",
      "iter: 1\n",
      "n_candidates: 19\n",
      "n_resources: 3114\n",
      "Fitting 5 folds for each of 19 candidates, totalling 95 fits\n",
      "----------\n",
      "iter: 2\n",
      "n_candidates: 7\n",
      "n_resources: 9342\n",
      "Fitting 5 folds for each of 7 candidates, totalling 35 fits\n",
      "----------\n",
      "iter: 3\n",
      "n_candidates: 3\n",
      "n_resources: 28026\n",
      "Fitting 5 folds for each of 3 candidates, totalling 15 fits\n",
      "{'C': 20, 'gamma': 'scale', 'kernel': 'rbf'}\n",
      "0.6390008920606601\n"
     ]
    }
   ],
   "source": [
    "from sklearn.experimental import enable_halving_search_cv\n",
    "from sklearn.model_selection import HalvingGridSearchCV\n",
    "\n",
    "param_grid = {\n",
    "                'C': [1, 10, 20, 30, 40, 50, 100],\n",
    "                'kernel': ['linear', 'rbf', 'poly', 'sigmoid'],\n",
    "                'gamma': ['scale', 'auto']\n",
    "                }\n",
    "\n",
    "base_estimator = SVC(gamma='scale', kernel='rbf', random_state=42)\n",
    "search = HalvingGridSearchCV(base_estimator, param_grid, cv=5, verbose=1, n_jobs=7)\n",
    "search.fit(principal_df_label_2, label_2_train_y)\n",
    "\n",
    "print(search.best_params_)\n",
    "print(search.best_score_)"
   ]
  },
  {
   "cell_type": "code",
   "execution_count": 24,
   "metadata": {},
   "outputs": [
    {
     "name": "stdout",
     "output_type": "stream",
     "text": [
      "Accuracy on validation data: 95.24%\n"
     ]
    }
   ],
   "source": [
    "y_pred_label_2 = search.best_estimator_.predict(valid_principal_df_label_2)\n",
    "accuracy_tuned = accuracy_score(y_pred_label_2, label_2_valid_y)\n",
    "print(f\"Accuracy on validation data: {accuracy_tuned * 100:.2f}%\")"
   ]
  },
  {
   "cell_type": "code",
   "execution_count": 26,
   "metadata": {},
   "outputs": [
    {
     "name": "stderr",
     "output_type": "stream",
     "text": [
      "c:\\Users\\Wenuka\\AppData\\Local\\Programs\\Python\\Python39\\lib\\site-packages\\sklearn\\base.py:450: UserWarning: X does not have valid feature names, but SVC was fitted with feature names\n",
      "  warnings.warn(\n"
     ]
    }
   ],
   "source": [
    "label_2_data_to_predict = test_dataset.drop(columns=['ID'])\n",
    "scaled_test_label_2 = scaler.transform(label_2_data_to_predict)\n",
    "pca_reduced_label_2 = pca.transform(scaled_test_label_2)\n",
    "final_label_2_predict = search.best_estimator_.predict(pca_reduced_label_2)"
   ]
  },
  {
   "cell_type": "code",
   "execution_count": 27,
   "metadata": {},
   "outputs": [],
   "source": [
    "final_submission = \"190601D_submission1.csv\"\n",
    "dataframe = pd.read_csv(final_submission)\n",
    "dataframe['label_2'] = final_label_2_predict\n",
    "dataframe.to_csv(final_submission,index=False)"
   ]
  }
 ],
 "metadata": {
  "kernelspec": {
   "display_name": "Python 3",
   "language": "python",
   "name": "python3"
  },
  "language_info": {
   "codemirror_mode": {
    "name": "ipython",
    "version": 3
   },
   "file_extension": ".py",
   "mimetype": "text/x-python",
   "name": "python",
   "nbconvert_exporter": "python",
   "pygments_lexer": "ipython3",
   "version": "3.9.6"
  },
  "orig_nbformat": 4
 },
 "nbformat": 4,
 "nbformat_minor": 2
}
